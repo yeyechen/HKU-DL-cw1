{
 "cells": [
  {
   "cell_type": "markdown",
   "metadata": {},
   "source": [
    "Assignmnet 1: Image Classification with Neural Networks\n",
    "=====================\n",
    "\n",
    "Data in Deep Learning\n",
    "----------------\n",
    "\n",
    "Generally, when you have to deal with image, text, audio or video data,\n",
    "you can use standard python packages that load data into a numpy array.\n",
    "Then you can convert this array into a ``torch.*Tensor``.\n",
    "\n",
    "-  For images, packages such as Pillow, OpenCV are useful\n",
    "-  For audio, packages such as scipy and librosa\n",
    "-  For text, either raw Python or Cython based loading, or NLTK and\n",
    "   SpaCy are useful\n",
    "\n",
    "Specifically for vision, we have created a package called\n",
    "``torchvision``, that has data loaders for common datasets such as\n",
    "ImageNet, CIFAR10, MNIST, etc. and data transformers for images, viz.,\n",
    "``torchvision.datasets`` and ``torch.utils.data.DataLoader``.\n",
    "\n",
    "This provides a huge convenience and avoids writing boilerplate code.\n",
    "\n",
    "For this assignment, we will use the CIFAR10 dataset.\n",
    "\n",
    "It has the classes: \n",
    "\n",
    "‘airplane’, ‘automobile’, ‘bird’, ‘cat’, ‘deer’,\n",
    "‘dog’, ‘frog’, ‘horse’, ‘ship’, ‘truck’. \n",
    "\n",
    "The images in CIFAR-10 are of size 3x32x32, i.e. 3-channel color images of 32x32 pixels in size.\n",
    "\n",
    "\n",
    "Training an image classifier\n",
    "----------------------------\n",
    "\n",
    "We will do the following steps in order:\n",
    "\n",
    "1. Load and normalize the CIFAR10 training and test datasets using\n",
    "   ``torchvision``\n",
    "2. Define a Convolutional Neural Network\n",
    "3. Define a loss function\n",
    "4. Train the network on the training data\n",
    "5. Test the network on the test data\n",
    "\n",
    "1. Load and normalize CIFAR10\n",
    "\n",
    "\n",
    "Using ``torchvision``, it’s extremely easy to load CIFAR10.\n",
    "\n"
   ]
  },
  {
   "cell_type": "code",
   "execution_count": 1,
   "metadata": {},
   "outputs": [],
   "source": [
    "import torch\n",
    "import torchvision\n",
    "import torchvision.transforms as transforms"
   ]
  },
  {
   "cell_type": "markdown",
   "metadata": {},
   "source": [
    "## Training on GPU?"
   ]
  },
  {
   "cell_type": "code",
   "execution_count": 2,
   "metadata": {},
   "outputs": [
    {
     "name": "stdout",
     "output_type": "stream",
     "text": [
      "cuda:0\n",
      "NVIDIA GeForce RTX 3070 Ti\n"
     ]
    }
   ],
   "source": [
    "device = torch.device(\"cuda:0\" if torch.cuda.is_available() else \"cpu\")\n",
    "\n",
    "# Assuming that we are on a CUDA machine, this should print a CUDA device:\n",
    "print(device)\n",
    "print(torch.cuda.get_device_name())"
   ]
  },
  {
   "cell_type": "markdown",
   "metadata": {},
   "source": [
    "The rest of this section assumes that ``device`` is a CUDA device."
   ]
  },
  {
   "cell_type": "markdown",
   "metadata": {},
   "source": [
    "## Define the dataset and dataloader\n",
    "\n",
    "The output of torchvision datasets are PILImage images of range [0, 1].\n",
    "We transform them to Tensors of normalized range [-1, 1].\n",
    "\n"
   ]
  },
  {
   "cell_type": "code",
   "execution_count": 3,
   "metadata": {},
   "outputs": [
    {
     "name": "stdout",
     "output_type": "stream",
     "text": [
      "Files already downloaded and verified\n",
      "Files already downloaded and verified\n",
      "Files already downloaded and verified\n",
      "Files already downloaded and verified\n"
     ]
    }
   ],
   "source": [
    "transform = transforms.Compose(\n",
    "    [transforms.ToTensor(),\n",
    "     transforms.Normalize((0.5, 0.5, 0.5), (0.5, 0.5, 0.5))])\n",
    "\n",
    "batch_size = 64\n",
    "\n",
    "def get_vis_loader():\n",
    "    transform = transforms.Compose(\n",
    "    [transforms.ToTensor(),\n",
    "     transforms.Normalize((0.5, 0.5, 0.5), (0.5, 0.5, 0.5))])\n",
    "\n",
    "    trainset = torchvision.datasets.CIFAR10(root='./data', train=True,\n",
    "                                            download=True, transform=transform)\n",
    "    trainloader = torch.utils.data.DataLoader(trainset, batch_size=4,\n",
    "                                              shuffle=True, num_workers=2)\n",
    "    testset = torchvision.datasets.CIFAR10(root='./data', train=False,\n",
    "                                           download=True, transform=transform)\n",
    "    testloader = torch.utils.data.DataLoader(testset, batch_size=4,\n",
    "                                             shuffle=False, num_workers=2)\n",
    "    return trainloader, testloader\n",
    "\n",
    "def get_train_loader(batch_size, transform):\n",
    "    trainset = torchvision.datasets.CIFAR10(root='./data', train=True,\n",
    "                                            download=True, transform=transform)\n",
    "    trainloader = torch.utils.data.DataLoader(trainset, batch_size=batch_size,\n",
    "                                              shuffle=True, num_workers=2)\n",
    "    return trainloader\n",
    "    \n",
    "def get_test_loader(batch_size, transform):\n",
    "    testset = torchvision.datasets.CIFAR10(root='./data', train=False,\n",
    "                                           download=True, transform=transform)\n",
    "    testloader = torch.utils.data.DataLoader(testset, batch_size=batch_size,\n",
    "                                             shuffle=False, num_workers=2)\n",
    "    return testloader\n",
    "    \n",
    "classes = ('plane', 'car', 'bird', 'cat',\n",
    "           'deer', 'dog', 'frog', 'horse', 'ship', 'truck')\n",
    "\n",
    "vistrainloader, vistestloader = get_vis_loader()\n",
    "trainloader = get_train_loader(batch_size, transform)\n",
    "testloader = get_test_loader(batch_size, transform)"
   ]
  },
  {
   "cell_type": "markdown",
   "metadata": {},
   "source": [
    "## Visualization\n",
    "\n",
    "Let us show some of the training images, for fun.\n",
    "\n"
   ]
  },
  {
   "cell_type": "code",
   "execution_count": 4,
   "metadata": {},
   "outputs": [
    {
     "data": {
      "image/png": "[encoded data removed]",
      "text/plain": [
       "<Figure size 640x480 with 1 Axes>"
      ]
     },
     "metadata": {},
     "output_type": "display_data"
    },
    {
     "name": "stdout",
     "output_type": "stream",
     "text": [
      "plane  deer  bird   cat\n"
     ]
    }
   ],
   "source": [
    "import matplotlib.pyplot as plt\n",
    "import numpy as np\n",
    "\n",
    "# functions to show an image\n",
    "def imshow(img):\n",
    "    img = img / 2 + 0.5     # unnormalize\n",
    "    npimg = img.numpy()\n",
    "    plt.imshow(np.transpose(npimg, (1, 2, 0)))\n",
    "    plt.show()\n",
    "\n",
    "# get some random training images\n",
    "dataiter = iter(vistrainloader)\n",
    "images, labels = next(dataiter)\n",
    "\n",
    "# show images\n",
    "imshow(torchvision.utils.make_grid(images))\n",
    "# print labels\n",
    "print(' '.join('%5s' % classes[labels[j]] for j in range(4)))"
   ]
  },
  {
   "cell_type": "markdown",
   "metadata": {},
   "source": [
    "## Define a Neural Network"
   ]
  },
  {
   "cell_type": "code",
   "execution_count": 5,
   "metadata": {},
   "outputs": [],
   "source": [
    "import torch.nn as nn\n",
    "import torch.nn.functional as F\n",
    "\n",
    "class NeuralNet(nn.Module):\n",
    "    def __init__(self):\n",
    "        super().__init__()\n",
    "        self.fc1 = nn.Linear(3*32*32, 128)\n",
    "        self.fc2 = nn.Linear(128, 256)\n",
    "        self.fc3 = nn.Linear(256, 512)\n",
    "        self.fc4 = nn.Linear(512, 10)\n",
    "\n",
    "    def forward(self, x):\n",
    "        x = torch.flatten(x, 1) # flatten all dimensions except batch\n",
    "        x = F.relu(self.fc1(x))\n",
    "        x = F.relu(self.fc2(x))\n",
    "        x = F.relu(self.fc3(x))\n",
    "        x = self.fc4(x)\n",
    "        return x\n",
    "\n",
    "fc_net = NeuralNet()"
   ]
  },
  {
   "cell_type": "markdown",
   "metadata": {},
   "source": [
    "## Define a Loss function and optimizer\n",
    "\n",
    "Let's use a Classification Cross-Entropy loss and SGD with momentum.\n",
    "\n"
   ]
  },
  {
   "cell_type": "code",
   "execution_count": 6,
   "metadata": {},
   "outputs": [],
   "source": [
    "import torch.optim as optim\n",
    "\n",
    "def get_optimizer(net, lr):\n",
    "    optimizer = optim.SGD(net.parameters(), lr=lr, momentum=0.9)\n",
    "    return optimizer\n",
    "\n",
    "def accuracy(output, target):\n",
    "    # get the index of the max log-probability\n",
    "    pred = output.max(1, keepdim=True)[1]\n",
    "    return pred.eq(target.view_as(pred)).float().mean()\n",
    "\n",
    "criterion = nn.CrossEntropyLoss()\n",
    "optimizer = get_optimizer(fc_net, 0.01)"
   ]
  },
  {
   "cell_type": "markdown",
   "metadata": {},
   "source": [
    "## Define training code"
   ]
  },
  {
   "cell_type": "code",
   "execution_count": 7,
   "metadata": {},
   "outputs": [],
   "source": [
    "def forward_step(net, inputs, labels):\n",
    "    outputs = net(inputs)\n",
    "    loss = criterion(outputs, labels)\n",
    "    return outputs, loss, labels\n",
    "\n",
    "\n",
    "def train(net, loader, optimizer, max_epoch):\n",
    "    net.to(device)\n",
    "    net.train()\n",
    "    N = len(loader)\n",
    "    print_interval = (N // 8 // 100 + 1) * 100\n",
    "    for epoch in range(max_epoch):  # loop over the dataset multiple times\n",
    "\n",
    "        running_loss = 0.0\n",
    "        running_acc = 0.0\n",
    "        for i, data in enumerate(loader, 0):\n",
    "            # get the inputs; data is a list of [inputs, labels]\n",
    "            images, labels = data[0].to(device), data[1].to(device) \n",
    "\n",
    "            # zero the parameter gradients\n",
    "            optimizer.zero_grad()\n",
    "\n",
    "            # forward + backward + optimize\n",
    "            outputs, loss, labels = forward_step(net, images, labels)\n",
    "            loss.backward()\n",
    "            optimizer.step()\n",
    "\n",
    "            # print statistics\n",
    "            running_loss += loss.item()\n",
    "            running_acc += accuracy(outputs, labels).item()\n",
    "            if (i + 1) % print_interval == 0:\n",
    "                print('Epoch: [%d / %d], batches: [%d / %d], loss: %.3f, acc: %.2f' %\n",
    "                      (epoch + 1, max_epoch, i + 1, N, \n",
    "                       running_loss / print_interval, 100 * running_acc / print_interval))\n",
    "                running_loss = 0.0\n",
    "                running_acc = 0.0\n",
    "\n",
    "    print('Finished Training')"
   ]
  },
  {
   "cell_type": "markdown",
   "metadata": {},
   "source": [
    "## Train the network\n",
    "\n",
    "This is when things start to get interesting.\n",
    "We simply have to loop over our data iterator, and feed the inputs to the\n",
    "network and optimize.\n",
    "\n"
   ]
  },
  {
   "cell_type": "code",
   "execution_count": 11,
   "metadata": {},
   "outputs": [
    {
     "name": "stdout",
     "output_type": "stream",
     "text": [
      "Epoch: [1 / 5], batches: [100 / 782], loss: 2.209, acc: 19.42\n",
      "Epoch: [1 / 5], batches: [200 / 782], loss: 1.908, acc: 30.34\n",
      "Epoch: [1 / 5], batches: [300 / 782], loss: 1.771, acc: 35.73\n",
      "Epoch: [1 / 5], batches: [400 / 782], loss: 1.719, acc: 38.30\n",
      "Epoch: [1 / 5], batches: [500 / 782], loss: 1.667, acc: 40.59\n",
      "Epoch: [1 / 5], batches: [600 / 782], loss: 1.631, acc: 41.56\n",
      "Epoch: [1 / 5], batches: [700 / 782], loss: 1.624, acc: 42.62\n",
      "Epoch: [2 / 5], batches: [100 / 782], loss: 1.532, acc: 45.84\n",
      "Epoch: [2 / 5], batches: [200 / 782], loss: 1.503, acc: 45.73\n",
      "Epoch: [2 / 5], batches: [300 / 782], loss: 1.503, acc: 47.56\n",
      "Epoch: [2 / 5], batches: [400 / 782], loss: 1.486, acc: 47.17\n",
      "Epoch: [2 / 5], batches: [500 / 782], loss: 1.481, acc: 47.48\n",
      "Epoch: [2 / 5], batches: [600 / 782], loss: 1.459, acc: 48.20\n",
      "Epoch: [2 / 5], batches: [700 / 782], loss: 1.438, acc: 48.34\n",
      "Epoch: [3 / 5], batches: [100 / 782], loss: 1.376, acc: 51.19\n",
      "Epoch: [3 / 5], batches: [200 / 782], loss: 1.375, acc: 51.41\n",
      "Epoch: [3 / 5], batches: [300 / 782], loss: 1.386, acc: 50.33\n",
      "Epoch: [3 / 5], batches: [400 / 782], loss: 1.382, acc: 51.08\n",
      "Epoch: [3 / 5], batches: [500 / 782], loss: 1.367, acc: 51.39\n",
      "Epoch: [3 / 5], batches: [600 / 782], loss: 1.352, acc: 52.14\n",
      "Epoch: [3 / 5], batches: [700 / 782], loss: 1.349, acc: 51.58\n",
      "Epoch: [4 / 5], batches: [100 / 782], loss: 1.256, acc: 55.17\n",
      "Epoch: [4 / 5], batches: [200 / 782], loss: 1.278, acc: 54.73\n",
      "Epoch: [4 / 5], batches: [300 / 782], loss: 1.276, acc: 54.72\n",
      "Epoch: [4 / 5], batches: [400 / 782], loss: 1.270, acc: 54.73\n",
      "Epoch: [4 / 5], batches: [500 / 782], loss: 1.287, acc: 54.38\n",
      "Epoch: [4 / 5], batches: [600 / 782], loss: 1.287, acc: 53.94\n",
      "Epoch: [4 / 5], batches: [700 / 782], loss: 1.313, acc: 53.08\n",
      "Epoch: [5 / 5], batches: [100 / 782], loss: 1.200, acc: 56.72\n",
      "Epoch: [5 / 5], batches: [200 / 782], loss: 1.182, acc: 57.83\n",
      "Epoch: [5 / 5], batches: [300 / 782], loss: 1.215, acc: 56.70\n",
      "Epoch: [5 / 5], batches: [400 / 782], loss: 1.218, acc: 56.72\n",
      "Epoch: [5 / 5], batches: [500 / 782], loss: 1.217, acc: 57.05\n",
      "Epoch: [5 / 5], batches: [600 / 782], loss: 1.210, acc: 57.50\n",
      "Epoch: [5 / 5], batches: [700 / 782], loss: 1.225, acc: 56.92\n",
      "Finished Training\n"
     ]
    }
   ],
   "source": [
    "train(fc_net, trainloader, optimizer, 5)"
   ]
  },
  {
   "cell_type": "markdown",
   "metadata": {},
   "source": [
    "## Let's quickly save our trained model:\n",
    "\n"
   ]
  },
  {
   "cell_type": "code",
   "execution_count": 10,
   "metadata": {},
   "outputs": [],
   "source": [
    "PATH = 'trained_models/cifar_net.pth'\n",
    "\n",
    "def save_model(net, path):\n",
    "    torch.save(net.state_dict(), path)"
   ]
  },
  {
   "cell_type": "code",
   "execution_count": null,
   "metadata": {},
   "outputs": [],
   "source": [
    "save_model(fc_net, PATH)"
   ]
  },
  {
   "cell_type": "markdown",
   "metadata": {},
   "source": [
    "## Test the network on the test data\n",
    "\n",
    "\n",
    "We have trained the network for 2 passes over the training dataset.\n",
    "But we need to check if the network has learnt anything at all.\n",
    "\n",
    "We will check this by predicting the class label that the neural network\n",
    "outputs, and checking it against the ground-truth. If the prediction is\n",
    "correct, we add the sample to the list of correct predictions.\n",
    "\n",
    "Okay, first step. Let us display an image from the test set to get familiar.\n",
    "\n"
   ]
  },
  {
   "cell_type": "code",
   "execution_count": 8,
   "metadata": {},
   "outputs": [
    {
     "data": {
      "image/png": "[encoded data removed]",
      "text/plain": [
       "<Figure size 640x480 with 1 Axes>"
      ]
     },
     "metadata": {},
     "output_type": "display_data"
    },
    {
     "name": "stdout",
     "output_type": "stream",
     "text": [
      "GroundTruth:    cat  ship  ship plane\n"
     ]
    }
   ],
   "source": [
    "dataiter = iter(vistestloader)\n",
    "images, labels = next(dataiter)\n",
    "\n",
    "# print images\n",
    "imshow(torchvision.utils.make_grid(images))\n",
    "print('GroundTruth: ', ' '.join('%5s' % classes[labels[j]] for j in range(4)))"
   ]
  },
  {
   "cell_type": "markdown",
   "metadata": {},
   "source": [
    "## Load a model\n",
    "Next, let's load back in our saved model (note: saving and re-loading the model\n",
    "wasn't necessary here, we only did it to illustrate how to do so):\n",
    "\n"
   ]
  },
  {
   "cell_type": "code",
   "execution_count": 12,
   "metadata": {},
   "outputs": [],
   "source": [
    "net = NeuralNet()\n",
    "\n",
    "def load_model(net, path):\n",
    "    net.load_state_dict(torch.load(path, weights_only=False))\n",
    "    \n",
    "load_model(net, PATH)"
   ]
  },
  {
   "cell_type": "markdown",
   "metadata": {},
   "source": [
    "Okay, now let us see what the neural network thinks these examples above are:\n",
    "\n"
   ]
  },
  {
   "cell_type": "code",
   "execution_count": 13,
   "metadata": {},
   "outputs": [],
   "source": [
    "outputs = net(images)"
   ]
  },
  {
   "cell_type": "markdown",
   "metadata": {},
   "source": [
    "The outputs are energies for the 10 classes.\n",
    "The higher the energy for a class, the more the network\n",
    "thinks that the image is of the particular class.\n",
    "So, let's get the index of the highest energy:\n",
    "\n"
   ]
  },
  {
   "cell_type": "code",
   "execution_count": 14,
   "metadata": {},
   "outputs": [
    {
     "name": "stdout",
     "output_type": "stream",
     "text": [
      "Predicted:   deer  deer  ship  deer\n"
     ]
    }
   ],
   "source": [
    "_, predicted = torch.max(outputs, 1)\n",
    "\n",
    "print('Predicted: ', ' '.join('%5s' % classes[predicted[j]]\n",
    "                              for j in range(4)))"
   ]
  },
  {
   "cell_type": "markdown",
   "metadata": {},
   "source": [
    "## Define testing code"
   ]
  },
  {
   "cell_type": "code",
   "execution_count": 15,
   "metadata": {},
   "outputs": [],
   "source": [
    "def test(net, testloader):\n",
    "    correct = 0\n",
    "    total = 0\n",
    "    net.to(device)\n",
    "    net.eval()\n",
    "    # since we're not training, we don't need to calculate the gradients for our outputs\n",
    "    with torch.no_grad():\n",
    "        for data in testloader:\n",
    "            images, labels = data[0].to(device), data[1].to(device)\n",
    "            # calculate outputs by running images through the network\n",
    "            outputs = net(images)\n",
    "            # the class with the highest energy is what we choose as prediction\n",
    "            _, predicted = torch.max(outputs.data, 1)\n",
    "            total += labels.size(0)\n",
    "            correct += (predicted == labels).sum().item()\n",
    "\n",
    "    print('Accuracy of the network on the 10000 test images: %d %%' % (\n",
    "        100 * correct / total))"
   ]
  },
  {
   "cell_type": "code",
   "execution_count": 16,
   "metadata": {},
   "outputs": [
    {
     "name": "stdout",
     "output_type": "stream",
     "text": [
      "Accuracy of the network on the 10000 test images: 52 %\n"
     ]
    }
   ],
   "source": [
    "test(net, testloader)"
   ]
  },
  {
   "cell_type": "markdown",
   "metadata": {},
   "source": [
    "## See accuracy of each class\n",
    "\n",
    "That looks way better than chance, which is 10% accuracy (randomly picking\n",
    "a class out of 10 classes).\n",
    "Seems like the network learnt something.\n",
    "\n",
    "Hmmm, what are the classes that performed well, and the classes that did\n",
    "not perform well:\n",
    "\n"
   ]
  },
  {
   "cell_type": "code",
   "execution_count": 16,
   "metadata": {},
   "outputs": [],
   "source": [
    "def class_test(net, testloader):\n",
    "    # prepare to count predictions for each class\n",
    "    correct_pred = {classname: 0 for classname in classes}\n",
    "    total_pred = {classname: 0 for classname in classes}\n",
    "    \n",
    "    net.to(device)\n",
    "    net.eval()\n",
    "    # again no gradients needed\n",
    "    with torch.no_grad():\n",
    "        for data in testloader:\n",
    "            images, labels = data[0].to(device), data[1].to(device)  \n",
    "            outputs = net(images)    \n",
    "            _, predictions = torch.max(outputs, 1)\n",
    "            # collect the correct predictions for each class\n",
    "            for label, prediction in zip(labels, predictions):\n",
    "                if label == prediction:\n",
    "                    correct_pred[classes[label]] += 1\n",
    "                total_pred[classes[label]] += 1\n",
    "\n",
    "\n",
    "    # print accuracy for each class\n",
    "    for classname, correct_count in correct_pred.items():\n",
    "        acc = 100 * float(correct_count) / total_pred[classname]\n",
    "        print(\"Accuracy for class {:5s} is: {:.1f} %\".format(classname, \n",
    "                                                       acc))"
   ]
  },
  {
   "cell_type": "code",
   "execution_count": 18,
   "metadata": {},
   "outputs": [
    {
     "name": "stdout",
     "output_type": "stream",
     "text": [
      "Accuracy for class plane is: 50.2 %\n",
      "Accuracy for class car   is: 58.4 %\n",
      "Accuracy for class bird  is: 29.6 %\n",
      "Accuracy for class cat   is: 39.3 %\n",
      "Accuracy for class deer  is: 47.9 %\n",
      "Accuracy for class dog   is: 45.4 %\n",
      "Accuracy for class frog  is: 68.1 %\n",
      "Accuracy for class horse is: 62.5 %\n",
      "Accuracy for class ship  is: 57.0 %\n",
      "Accuracy for class truck is: 64.4 %\n"
     ]
    }
   ],
   "source": [
    "class_test(net, testloader)"
   ]
  },
  {
   "cell_type": "markdown",
   "metadata": {},
   "source": [
    "# Your turn now!"
   ]
  },
  {
   "cell_type": "markdown",
   "metadata": {},
   "source": [
    "## Define a Convolutional Neural Network\n",
    "\n",
    "The architecture should be:\n",
    "\n",
    "    conv2d, 5x5, 3->8, padding=2\n",
    "\n",
    "    Relu()\n",
    "\n",
    "    conv2d, 5x5, 8->16, padding=2, stride=2\n",
    "\n",
    "    Relu()\n",
    "\n",
    "    conv2d, 5x5, 16->32, padding=2\n",
    "    \n",
    "    Relu()\n",
    "\n",
    "    conv2d, 5x5, 32->64, padding=2, stride=2\n",
    "    \n",
    "    Relu()\n",
    "\n",
    "    conv2d, 5x5, 64->128, padding=2\n",
    "\n",
    "    maxpool2d\n",
    "\n",
    "    Relu()\n",
    "\n",
    "    flatten the feature map\n",
    "\n",
    "    fc, the whole feature map -> 120\n",
    "\n",
    "    Relu()\n",
    "\n",
    "    fc, 120->84\n",
    "\n",
    "    Relu()\n",
    "\n",
    "    fc, 84->10\n",
    "    "
   ]
  },
  {
   "cell_type": "code",
   "execution_count": 40,
   "metadata": {},
   "outputs": [],
   "source": [
    "import torch.nn as nn\n",
    "import torch.nn.functional as F\n",
    "\n",
    "\n",
    "class ConvolutionNet(nn.Module):\n",
    "    def __init__(self):\n",
    "        super().__init__()\n",
    "        self.conv1 = nn.Conv2d(3, 8, 5, padding=2)\n",
    "        self.conv2 = nn.Conv2d(8, 16, 5, padding=2, stride=2)\n",
    "        self.conv3 = nn.Conv2d(16, 32, 5, padding=2)\n",
    "        self.conv4 = nn.Conv2d(32, 64, 5, padding=2, stride=2)\n",
    "        self.conv5 = nn.Conv2d(64, 128, 5, padding=2)\n",
    "        \n",
    "        self.pool = nn.MaxPool2d(kernel_size=2, stride=2)\n",
    "        \n",
    "        self.fc1 = nn.Linear(2*32*32, 120)\n",
    "        self.fc2 = nn.Linear(120, 84)\n",
    "        self.fc3 = nn.Linear(84, 10)\n",
    "    def forward(self, x):\n",
    "        x = F.relu(self.conv1(x))\n",
    "        x = F.relu(self.conv2(x))\n",
    "        x = F.relu(self.conv3(x))\n",
    "        x = F.relu(self.conv4(x))\n",
    "        x = F.relu(self.conv5(x))\n",
    "        \n",
    "        x = self.pool(x)\n",
    "        x = torch.flatten(x, 1)\n",
    "        \n",
    "        x = F.relu(self.fc1(x))\n",
    "        x = F.relu(self.fc2(x))\n",
    "        x = self.fc3(x)\n",
    "        return x\n",
    "\n",
    "simple_cnn = ConvolutionNet()"
   ]
  },
  {
   "cell_type": "markdown",
   "metadata": {},
   "source": [
    "## Train the convolutional neural network\n",
    "\n",
    "Train this CNN with learning rate 1e-2 for 5 epochs.\n",
    "\n",
    "You should see the training loss is aroung 0.9 and accuracy is around 67%."
   ]
  },
  {
   "cell_type": "code",
   "execution_count": 41,
   "metadata": {},
   "outputs": [
    {
     "name": "stdout",
     "output_type": "stream",
     "text": [
      "Epoch: [1 / 5], batches: [100 / 782], loss: 2.304, acc: 10.23\n",
      "Epoch: [1 / 5], batches: [200 / 782], loss: 2.303, acc: 9.78\n",
      "Epoch: [1 / 5], batches: [300 / 782], loss: 2.302, acc: 10.80\n",
      "Epoch: [1 / 5], batches: [400 / 782], loss: 2.297, acc: 12.64\n",
      "Epoch: [1 / 5], batches: [500 / 782], loss: 2.201, acc: 18.92\n",
      "Epoch: [1 / 5], batches: [600 / 782], loss: 2.033, acc: 23.36\n",
      "Epoch: [1 / 5], batches: [700 / 782], loss: 1.953, acc: 26.39\n",
      "Epoch: [2 / 5], batches: [100 / 782], loss: 1.802, acc: 32.23\n",
      "Epoch: [2 / 5], batches: [200 / 782], loss: 1.746, acc: 33.80\n",
      "Epoch: [2 / 5], batches: [300 / 782], loss: 1.681, acc: 38.62\n",
      "Epoch: [2 / 5], batches: [400 / 782], loss: 1.612, acc: 39.52\n",
      "Epoch: [2 / 5], batches: [500 / 782], loss: 1.522, acc: 43.22\n",
      "Epoch: [2 / 5], batches: [600 / 782], loss: 1.525, acc: 43.73\n",
      "Epoch: [2 / 5], batches: [700 / 782], loss: 1.493, acc: 44.88\n",
      "Epoch: [3 / 5], batches: [100 / 782], loss: 1.440, acc: 47.03\n",
      "Epoch: [3 / 5], batches: [200 / 782], loss: 1.403, acc: 48.88\n",
      "Epoch: [3 / 5], batches: [300 / 782], loss: 1.332, acc: 51.03\n",
      "Epoch: [3 / 5], batches: [400 / 782], loss: 1.336, acc: 52.52\n",
      "Epoch: [3 / 5], batches: [500 / 782], loss: 1.279, acc: 53.86\n",
      "Epoch: [3 / 5], batches: [600 / 782], loss: 1.253, acc: 54.80\n",
      "Epoch: [3 / 5], batches: [700 / 782], loss: 1.240, acc: 55.27\n",
      "Epoch: [4 / 5], batches: [100 / 782], loss: 1.119, acc: 59.95\n",
      "Epoch: [4 / 5], batches: [200 / 782], loss: 1.125, acc: 59.94\n",
      "Epoch: [4 / 5], batches: [300 / 782], loss: 1.140, acc: 59.55\n",
      "Epoch: [4 / 5], batches: [400 / 782], loss: 1.122, acc: 60.23\n",
      "Epoch: [4 / 5], batches: [500 / 782], loss: 1.093, acc: 61.92\n",
      "Epoch: [4 / 5], batches: [600 / 782], loss: 1.064, acc: 61.62\n",
      "Epoch: [4 / 5], batches: [700 / 782], loss: 1.073, acc: 62.16\n",
      "Epoch: [5 / 5], batches: [100 / 782], loss: 0.982, acc: 65.23\n",
      "Epoch: [5 / 5], batches: [200 / 782], loss: 0.955, acc: 65.80\n",
      "Epoch: [5 / 5], batches: [300 / 782], loss: 0.962, acc: 66.58\n",
      "Epoch: [5 / 5], batches: [400 / 782], loss: 0.955, acc: 66.38\n",
      "Epoch: [5 / 5], batches: [500 / 782], loss: 0.956, acc: 66.88\n",
      "Epoch: [5 / 5], batches: [600 / 782], loss: 0.941, acc: 66.92\n",
      "Epoch: [5 / 5], batches: [700 / 782], loss: 0.941, acc: 67.12\n",
      "Finished Training\n"
     ]
    }
   ],
   "source": [
    "optimizer = get_optimizer(simple_cnn, 1e-2)\n",
    "epochs = 5\n",
    "train(simple_cnn, trainloader, optimizer, epochs)"
   ]
  },
  {
   "cell_type": "code",
   "execution_count": 48,
   "metadata": {},
   "outputs": [],
   "source": [
    "save_model(simple_cnn, PATH)"
   ]
  },
  {
   "cell_type": "markdown",
   "metadata": {},
   "source": [
    "## Test the convolutional neural network\n",
    "\n",
    "Test this CNN on the test dataset.\n",
    "\n",
    "You should see the accuracy is around 62%."
   ]
  },
  {
   "cell_type": "code",
   "execution_count": 42,
   "metadata": {},
   "outputs": [
    {
     "name": "stdout",
     "output_type": "stream",
     "text": [
      "Accuracy of the network on the 10000 test images: 65 %\n"
     ]
    }
   ],
   "source": [
    "test(simple_cnn, testloader)"
   ]
  },
  {
   "cell_type": "markdown",
   "metadata": {},
   "source": [
    "## Accuracy (each class) of CNN\n",
    "\n",
    "Test this CNN on the test dataset to see the accuracy of each class."
   ]
  },
  {
   "cell_type": "code",
   "execution_count": 43,
   "metadata": {},
   "outputs": [
    {
     "name": "stdout",
     "output_type": "stream",
     "text": [
      "Accuracy for class plane is: 70.5 %\n",
      "Accuracy for class car   is: 78.5 %\n",
      "Accuracy for class bird  is: 58.5 %\n",
      "Accuracy for class cat   is: 54.3 %\n",
      "Accuracy for class deer  is: 43.0 %\n",
      "Accuracy for class dog   is: 44.2 %\n",
      "Accuracy for class frog  is: 72.2 %\n",
      "Accuracy for class horse is: 70.0 %\n",
      "Accuracy for class ship  is: 88.2 %\n",
      "Accuracy for class truck is: 70.6 %\n"
     ]
    }
   ],
   "source": [
    "class_test(simple_cnn, testloader)"
   ]
  },
  {
   "cell_type": "markdown",
   "metadata": {},
   "source": [
    "## Let's use BN\n",
    "\n",
    "Add BatchNorm2d to the convolution neural network you implemented.\n",
    "\n",
    "You should add batchnorm after the convolution operator and before the activation layer.\n",
    "\n",
    "Please train this network and show the test accuracy."
   ]
  },
  {
   "cell_type": "code",
   "execution_count": 44,
   "metadata": {},
   "outputs": [],
   "source": [
    "import torch.nn as nn\n",
    "import torch.nn.functional as F\n",
    "\n",
    "class ConvolutionBNNet(nn.Module):\n",
    "    def __init__(self):\n",
    "        super().__init__()\n",
    "        self.conv1 = nn.Conv2d(3, 8, 5, padding=2)\n",
    "        self.bn1 = nn.BatchNorm2d(8)\n",
    "        self.conv2 = nn.Conv2d(8, 16, 5, padding=2, stride=2)\n",
    "        self.bn2 = nn.BatchNorm2d(16)\n",
    "        self.conv3 = nn.Conv2d(16, 32, 5, padding=2)\n",
    "        self.bn3 = nn.BatchNorm2d(32)\n",
    "        self.conv4 = nn.Conv2d(32, 64, 5, padding=2, stride=2)\n",
    "        self.bn4 = nn.BatchNorm2d(64)\n",
    "        self.conv5 = nn.Conv2d(64, 128, 5, padding=2)\n",
    "        self.bn5 = nn.BatchNorm2d(128)\n",
    "        \n",
    "        self.pool = nn.MaxPool2d(kernel_size=2, stride=2)\n",
    "        \n",
    "        self.fc1 = nn.Linear(2*32*32, 120)\n",
    "        self.fc2 = nn.Linear(120, 84)\n",
    "        self.fc3 = nn.Linear(84, 10)\n",
    "    def forward(self, x):\n",
    "        x = F.relu(self.bn1(self.conv1(x)))\n",
    "        x = F.relu(self.bn2(self.conv2(x)))\n",
    "        x = F.relu(self.bn3(self.conv3(x)))\n",
    "        x = F.relu(self.bn4(self.conv4(x)))\n",
    "        x = F.relu(self.bn5(self.conv5(x)))\n",
    "        \n",
    "        x = self.pool(x)\n",
    "        x = torch.flatten(x, 1)\n",
    "        \n",
    "        x = F.relu(self.fc1(x))\n",
    "        x = F.relu(self.fc2(x))\n",
    "        x = self.fc3(x)\n",
    "        return x\n",
    "\n",
    "cnn_bn = ConvolutionBNNet()"
   ]
  },
  {
   "cell_type": "markdown",
   "metadata": {},
   "source": [
    "## Train the CNN with BN\n",
    "\n",
    "Train this CNN with learning rate 1e-2 for 5 epochs."
   ]
  },
  {
   "cell_type": "code",
   "execution_count": 45,
   "metadata": {},
   "outputs": [
    {
     "name": "stdout",
     "output_type": "stream",
     "text": [
      "Epoch: [1 / 5], batches: [100 / 782], loss: 1.937, acc: 28.12\n",
      "Epoch: [1 / 5], batches: [200 / 782], loss: 1.606, acc: 39.22\n",
      "Epoch: [1 / 5], batches: [300 / 782], loss: 1.499, acc: 43.77\n",
      "Epoch: [1 / 5], batches: [400 / 782], loss: 1.426, acc: 47.52\n",
      "Epoch: [1 / 5], batches: [500 / 782], loss: 1.353, acc: 51.14\n",
      "Epoch: [1 / 5], batches: [600 / 782], loss: 1.259, acc: 54.92\n",
      "Epoch: [1 / 5], batches: [700 / 782], loss: 1.196, acc: 56.91\n",
      "Epoch: [2 / 5], batches: [100 / 782], loss: 1.087, acc: 60.83\n",
      "Epoch: [2 / 5], batches: [200 / 782], loss: 1.068, acc: 61.89\n",
      "Epoch: [2 / 5], batches: [300 / 782], loss: 1.044, acc: 62.94\n",
      "Epoch: [2 / 5], batches: [400 / 782], loss: 0.990, acc: 65.19\n",
      "Epoch: [2 / 5], batches: [500 / 782], loss: 0.938, acc: 67.08\n",
      "Epoch: [2 / 5], batches: [600 / 782], loss: 0.948, acc: 66.22\n",
      "Epoch: [2 / 5], batches: [700 / 782], loss: 0.905, acc: 68.25\n",
      "Epoch: [3 / 5], batches: [100 / 782], loss: 0.847, acc: 70.41\n",
      "Epoch: [3 / 5], batches: [200 / 782], loss: 0.798, acc: 71.55\n",
      "Epoch: [3 / 5], batches: [300 / 782], loss: 0.820, acc: 71.12\n",
      "Epoch: [3 / 5], batches: [400 / 782], loss: 0.782, acc: 72.27\n",
      "Epoch: [3 / 5], batches: [500 / 782], loss: 0.785, acc: 72.25\n",
      "Epoch: [3 / 5], batches: [600 / 782], loss: 0.756, acc: 73.56\n",
      "Epoch: [3 / 5], batches: [700 / 782], loss: 0.757, acc: 73.52\n",
      "Epoch: [4 / 5], batches: [100 / 782], loss: 0.661, acc: 77.23\n",
      "Epoch: [4 / 5], batches: [200 / 782], loss: 0.661, acc: 76.91\n",
      "Epoch: [4 / 5], batches: [300 / 782], loss: 0.645, acc: 77.61\n",
      "Epoch: [4 / 5], batches: [400 / 782], loss: 0.684, acc: 75.70\n",
      "Epoch: [4 / 5], batches: [500 / 782], loss: 0.674, acc: 76.11\n",
      "Epoch: [4 / 5], batches: [600 / 782], loss: 0.704, acc: 75.14\n",
      "Epoch: [4 / 5], batches: [700 / 782], loss: 0.680, acc: 76.23\n",
      "Epoch: [5 / 5], batches: [100 / 782], loss: 0.533, acc: 81.25\n",
      "Epoch: [5 / 5], batches: [200 / 782], loss: 0.536, acc: 81.12\n",
      "Epoch: [5 / 5], batches: [300 / 782], loss: 0.585, acc: 79.70\n",
      "Epoch: [5 / 5], batches: [400 / 782], loss: 0.559, acc: 80.52\n",
      "Epoch: [5 / 5], batches: [500 / 782], loss: 0.573, acc: 79.66\n",
      "Epoch: [5 / 5], batches: [600 / 782], loss: 0.580, acc: 79.58\n",
      "Epoch: [5 / 5], batches: [700 / 782], loss: 0.554, acc: 80.17\n",
      "Finished Training\n"
     ]
    }
   ],
   "source": [
    "optimizer = get_optimizer(cnn_bn, 1e-2)\n",
    "epochs = 5\n",
    "train(cnn_bn, trainloader, optimizer, epochs)"
   ]
  },
  {
   "cell_type": "code",
   "execution_count": null,
   "metadata": {},
   "outputs": [],
   "source": [
    "class_test(cnn_bn, testloader)"
   ]
  },
  {
   "cell_type": "markdown",
   "metadata": {},
   "source": [
    "## Test the CNN with BN\n",
    "\n",
    "Test this CNN on the test dataset."
   ]
  },
  {
   "cell_type": "code",
   "execution_count": 46,
   "metadata": {},
   "outputs": [
    {
     "name": "stdout",
     "output_type": "stream",
     "text": [
      "Accuracy of the network on the 10000 test images: 70 %\n"
     ]
    }
   ],
   "source": [
    "test(cnn_bn, testloader)"
   ]
  },
  {
   "cell_type": "markdown",
   "metadata": {},
   "source": [
    "## Accuracy (each class) of CNN with BN\n",
    "\n",
    "Test this CNN with BNN on the test dataset to see the accuracy of each class."
   ]
  },
  {
   "cell_type": "code",
   "execution_count": 47,
   "metadata": {},
   "outputs": [
    {
     "name": "stdout",
     "output_type": "stream",
     "text": [
      "Accuracy for class plane is: 83.1 %\n",
      "Accuracy for class car   is: 93.0 %\n",
      "Accuracy for class bird  is: 55.7 %\n",
      "Accuracy for class cat   is: 45.8 %\n",
      "Accuracy for class deer  is: 62.2 %\n",
      "Accuracy for class dog   is: 42.7 %\n",
      "Accuracy for class frog  is: 64.1 %\n",
      "Accuracy for class horse is: 88.5 %\n",
      "Accuracy for class ship  is: 91.2 %\n",
      "Accuracy for class truck is: 78.4 %\n"
     ]
    }
   ],
   "source": [
    "class_test(cnn_bn, testloader)"
   ]
  },
  {
   "cell_type": "markdown",
   "metadata": {},
   "source": [
    "## Design by yourself\n",
    "Now, based on the knowledge learned in class or by referring to online resources, you can design your own network architecture or incorporate other optimization methods to improve task performance. Please provide at least one improvement strategy."
   ]
  },
  {
   "cell_type": "code",
   "execution_count": null,
   "metadata": {},
   "outputs": [],
   "source": [
    "'''\n",
    "Implement here\n",
    "'''"
   ]
  },
  {
   "attachments": {},
   "cell_type": "markdown",
   "metadata": {},
   "source": [
    "## Good Job!"
   ]
  }
 ],
 "metadata": {
  "kernelspec": {
   "display_name": "Python 3 (ipykernel)",
   "language": "python",
   "name": "python3"
  },
  "language_info": {
   "codemirror_mode": {
    "name": "ipython",
    "version": 3
   },
   "file_extension": ".py",
   "mimetype": "text/x-python",
   "name": "python",
   "nbconvert_exporter": "python",
   "pygments_lexer": "ipython3",
   "version": "3.12.3"
  }
 },
 "nbformat": 4,
 "nbformat_minor": 4
}
